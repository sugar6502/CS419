{
 "cells": [
  {
   "cell_type": "code",
   "execution_count": 13,
   "metadata": {},
   "outputs": [],
   "source": [
    "from nltk import sent_tokenize\n",
    "from nltk.tokenize import word_tokenize\n",
    "from nltk.corpus import stopwords\n",
    "from nltk.stem import PorterStemmer\n",
    "import matplotlib.pyplot as plt\n",
    "import seaborn as sns\n",
    "import re\n",
    "import glob\n",
    "import math\n",
    "from nltk.corpus import wordnet\n",
    "from nltk.tokenize import RegexpTokenizer\n",
    "import numpy as np\n",
    "from sklearn.metrics.pairwise import cosine_similarity,cosine_distances\n",
    "import warnings\n",
    "warnings.filterwarnings(\"ignore\")\n",
    "\n"
   ]
  },
  {
   "cell_type": "code",
   "execution_count": 2,
   "metadata": {},
   "outputs": [],
   "source": [
    "#đọc query\n",
    "query_full = []\n",
    "with open(\"query.txt\") as f:\n",
    "    lines = f.readlines()\n",
    "    query_full = []\n",
    "    for i in lines:\n",
    "        query_full.append('' .join((z for z in i if not z.isdigit())).lower())"
   ]
  },
  {
   "cell_type": "code",
   "execution_count": 3,
   "metadata": {},
   "outputs": [],
   "source": [
    "def numericalSort(value):\n",
    "    '''\n",
    "    đọc theo số thứ tự file txt\n",
    "    '''\n",
    "    numbers = re.compile(r'(\\d+)')\n",
    "    parts = numbers.split(value)\n",
    "    parts[1::2] = map(int, parts[1::2])\n",
    "    return parts"
   ]
  },
  {
   "cell_type": "code",
   "execution_count": 4,
   "metadata": {},
   "outputs": [],
   "source": [
    "result = []\n",
    "for i in sorted(glob.glob('./RES/*'),key=numericalSort):  #lọc chữ số\n",
    "    temp = []\n",
    "    with open(i) as f:\n",
    "        lines = []\n",
    "        read = f.readlines()\n",
    "        for i in read:\n",
    "            lines.append(i.split(\" \")[-1].split(\"\\t\")[0])\n",
    "        temp.extend(lines)\n",
    "    result.append(temp)"
   ]
  },
  {
   "cell_type": "code",
   "execution_count": 5,
   "metadata": {},
   "outputs": [],
   "source": [
    "def loc_chu_so(url):\n",
    "    '''\n",
    "    xóa các số trong văn bản\n",
    "    '''\n",
    "    txt = []\n",
    "    for i in sorted(glob.glob(url),key=numericalSort):  #lọc chữ số\n",
    "        with open(i) as f:\n",
    "            lines = f.readlines()\n",
    "            if len(lines) == 0: lines = \" \"\n",
    "            char_str = ['' .join((z for z in lines[0] if not z.isdigit())).lower()]\n",
    "            txt.extend(char_str)\n",
    "    return txt"
   ]
  },
  {
   "cell_type": "code",
   "execution_count": 47,
   "metadata": {},
   "outputs": [],
   "source": [
    "def pos(word):\n",
    "    ps = PorterStemmer()\n",
    "    if word == ps.stem(word): return word\n",
    "    return pos(ps.stem(word))"
   ]
  },
  {
   "cell_type": "code",
   "execution_count": 48,
   "metadata": {},
   "outputs": [],
   "source": [
    "def tien_xu_ly(i):\n",
    "    '''\n",
    "    Xóa các stopwords, đưa về từ gốc, tách từ\n",
    "    '''\n",
    "    tokenizer = RegexpTokenizer(r'\\w+')\n",
    "    ps = PorterStemmer()\n",
    "    stop = set(stopwords.words(\"english\"))\n",
    "\n",
    "    temp = tokenizer.tokenize(i)\n",
    "    output = [w for w in temp if not w in stop]\n",
    "    temp_stem=[pos(word) for word in output]\n",
    "    #final = [word for word in temp_stem if wordnet.synsets(word)]\n",
    "  \n",
    "    final_final = [word for word in temp_stem if not len(word)<3]\n",
    "    return final_final"
   ]
  },
  {
   "cell_type": "code",
   "execution_count": 7,
   "metadata": {},
   "outputs": [],
   "source": [
    "def make_docs(txt):\n",
    "    docs = []\n",
    "    for i in txt:\n",
    "        docs.append(tien_xu_ly(i))\n",
    "    return docs\n"
   ]
  },
  {
   "cell_type": "code",
   "execution_count": 49,
   "metadata": {},
   "outputs": [],
   "source": [
    "def cal_precision(y_pred,y_true):\n",
    "    '''\n",
    "    hàm tính precision không nội suy\n",
    "    sử dụng phương pháp cắt n=10\n",
    "    \n",
    "    '''\n",
    "    pre = []\n",
    "    count = 0\n",
    "    for i in y_pred[0:10]:\n",
    "        #print(i)\n",
    "        if str(i[0]) in y_true:\n",
    "            count+=1\n",
    "            \n",
    "    \n",
    "    pre.append(count/10)\n",
    "    return pre"
   ]
  },
  {
   "cell_type": "code",
   "execution_count": 9,
   "metadata": {},
   "outputs": [],
   "source": [
    "def cal_recall(y_pred,y_true):\n",
    "    '''\n",
    "    hàm tính recall trong 10 bộ dữ liệu trả về\n",
    "    \n",
    "    '''\n",
    "    pre = []\n",
    "    count = 0\n",
    "    for i in y_pred[0:10]:\n",
    "        #print(i)\n",
    "        if str(i[0]) in y_true:\n",
    "            count+=1\n",
    "            \n",
    "    \n",
    "    pre.append(count/len(y_true))\n",
    "    return pre"
   ]
  },
  {
   "cell_type": "code",
   "execution_count": 11,
   "metadata": {},
   "outputs": [],
   "source": [
    "def interpolation(y_pred,y_true):\n",
    "    total = len(y_true)\n",
    "\n",
    "    recall = [0.0]\n",
    "    precision = [1.0]\n",
    "    count = 0 \n",
    "\n",
    "    for i in range (0,len(y_pred)):\n",
    "     \n",
    "        if str(y_pred[i].astype(int)) in y_true: \n",
    "            count +=1\n",
    "            precision.append(count/(i+1))\n",
    "            recall.append(count/total)\n",
    "\n",
    "    mark = 0\n",
    "    inter = []\n",
    "\n",
    "    i = 0\n",
    "    while(mark<1):\n",
    " \n",
    "        if(i>= len(recall)): \n",
    "            inter.append(inter[-1])\n",
    "            mark+=0.1\n",
    "            continue\n",
    "        if(mark<=recall[i]):\n",
    "            inter.append(precision[i])\n",
    "            mark+=0.1\n",
    "         \n",
    "        else:\n",
    "            i+=1\n",
    "\n",
    "    return inter\n",
    "    "
   ]
  },
  {
   "cell_type": "code",
   "execution_count": 9,
   "metadata": {},
   "outputs": [],
   "source": [
    "txt = loc_chu_so('./Cranfield/*')\n",
    "docs = make_docs(txt)"
   ]
  },
  {
   "attachments": {},
   "cell_type": "markdown",
   "metadata": {},
   "source": [
    "# Vector Space"
   ]
  },
  {
   "attachments": {},
   "cell_type": "markdown",
   "metadata": {},
   "source": [
    "## Hàm"
   ]
  },
  {
   "cell_type": "code",
   "execution_count": 14,
   "metadata": {},
   "outputs": [],
   "source": [
    "def make_term(txt_term):\n",
    "\n",
    "    '''\n",
    "    tạo thành các term có dạng là một dict, từ -> số lượng tài liệu chứa nó, tần số lặp từ đó trong tất cả tài liệu. Vd:\n",
    "    'deepest' : {So_luong_tai_lieu: 1,\n",
    "                 Tan_so: 2\n",
    "                }\n",
    "    '''\n",
    "    words = {}\n",
    "    for i in txt_term:\n",
    "      \n",
    "        final_final=tien_xu_ly(i)\n",
    "        \n",
    "        for word in final_final:\n",
    "            \n",
    "            if word not in words: \n",
    "                words[word] = {\n",
    "                \"So_luong_tai_lieu\" : [txt_term.index(i)+1], \n",
    "                \"Tan_so\" : 1,\n",
    "                \"Posting\": None\n",
    "                }\n",
    "\n",
    "            else:\n",
    "                words[word][\"Tan_so\"]+=1\n",
    "                current_index = txt_term.index(i)+1\n",
    "                if current_index not in words[word][\"So_luong_tai_lieu\"]: \n",
    "                    words[word][\"So_luong_tai_lieu\"].append(current_index)\n",
    "    for i in words:\n",
    "        words[i][\"So_luong_tai_lieu\"] = len(words[i][\"So_luong_tai_lieu\"])\n",
    "    return words\n",
    "\n"
   ]
  },
  {
   "cell_type": "code",
   "execution_count": 15,
   "metadata": {},
   "outputs": [],
   "source": [
    "def make_detail_term(txt_term):\n",
    "    '''\n",
    " \n",
    "    \n",
    "    '''\n",
    "    words = {}\n",
    "    for i in txt_term:\n",
    "        final_final=tien_xu_ly(i)\n",
    "        current_index = txt_term.index(i)+1\n",
    "        for word in final_final:\n",
    "            if (word not in words):\n",
    "                words[word] = [[current_index,1,0]]\n",
    "             \n",
    "            else:  \n",
    "                if words[word][-1][0] == current_index: words[word][-1][1] +=1 \n",
    "                else: words[word].append([current_index,1,0])\n",
    "            \n",
    "            #print(list(words[word][0,:]))\n",
    "       \n",
    "\n",
    "    return words         \n"
   ]
  },
  {
   "cell_type": "code",
   "execution_count": 16,
   "metadata": {},
   "outputs": [],
   "source": [
    "def make_index(term1, detail_term1):\n",
    "    for word in term1:\n",
    "        term1[word][\"Posting\"] = detail_term1[word]\n",
    "    return term1 \n",
    "    "
   ]
  },
  {
   "cell_type": "code",
   "execution_count": 17,
   "metadata": {},
   "outputs": [],
   "source": [
    "def make_weight_for_vector(index,number):\n",
    "    normal = np.zeros(number)\n",
    "    for word in index:\n",
    "        for i in index[word][\"Posting\"]:\n",
    "            tf = i[1]\n",
    "            idf = np.log10((number+1)/index[word][\"Tan_so\"])\n",
    "            i[2] = tf*idf\n",
    "            normal[i[0]-1] += pow((tf*idf),2)\n",
    "\n",
    "    return index, np.sqrt(normal)"
   ]
  },
  {
   "cell_type": "code",
   "execution_count": 18,
   "metadata": {},
   "outputs": [],
   "source": [
    "def normal_weight_vector(index,normal):\n",
    "    for word in index:\n",
    "        for i in index[word][\"Posting\"]:\n",
    "            i[2] /= normal[i[0]-1]\n",
    "    return index\n"
   ]
  },
  {
   "cell_type": "code",
   "execution_count": 19,
   "metadata": {},
   "outputs": [],
   "source": [
    "def vector_docs(normal_weight,txt,term):\n",
    "    vector_doc = []\n",
    "    for i in range (0,len(txt)):\n",
    "        doc_id = i+1\n",
    "        vector = []\n",
    "        for word in term:\n",
    "            \n",
    "    \n",
    "            if word not in txt[i]:\n",
    "                term_doc = 0\n",
    "            else: \n",
    "                index = list(np.array(normal_weight[word][\"Posting\"])[:,0]).index(doc_id)\n",
    "                term_doc = normal_weight[word]['Posting'][index][2]\n",
    "            vector.append(term_doc)\n",
    "\n",
    "            ######\n",
    "\n",
    "            \n",
    "            \n",
    "\n",
    "        vector_doc.append(vector)\n",
    "    return vector_doc\n",
    "\n",
    "    "
   ]
  },
  {
   "cell_type": "code",
   "execution_count": 49,
   "metadata": {},
   "outputs": [],
   "source": [
    "def vector_space(query,normal_weight,txt,term,vector_doc):\n",
    "    query = make_term(tien_xu_ly(query))\n",
    "    \n",
    "    relevance_scores = {}\n",
    "    for i in range (0,len(txt)):\n",
    "        doc_id = i+1\n",
    "        vector_query = np.zeros(len(term))\n",
    "        \n",
    "        for word in query:\n",
    "            if word not in term: continue\n",
    "            count = query[word]['Tan_so']\n",
    "            index = list(term).index(word)\n",
    "            vector_query[index] = count * np.log10((len(txt)+1)/term[word][\"Tan_so\"])\n",
    "\n",
    "        score = cosine_similarity(np.array(vector_query).reshape(1,-1),np.array(vector_doc[i]).reshape(1,-1))\n",
    "        if (score<=0): continue\n",
    "        relevance_scores[doc_id] =score\n",
    "    sorted_value = sorted(relevance_scores.items(), key=lambda x: x[1], reverse = True)\n",
    "    return sorted_value\n",
    "    "
   ]
  },
  {
   "attachments": {},
   "cell_type": "markdown",
   "metadata": {},
   "source": [
    "## Main"
   ]
  },
  {
   "cell_type": "code",
   "execution_count": 22,
   "metadata": {},
   "outputs": [],
   "source": [
    "term = make_term(txt)\n",
    "detail_term = make_detail_term(txt)"
   ]
  },
  {
   "cell_type": "code",
   "execution_count": 25,
   "metadata": {},
   "outputs": [],
   "source": [
    "index = make_index(term,detail_term)"
   ]
  },
  {
   "cell_type": "code",
   "execution_count": 26,
   "metadata": {},
   "outputs": [],
   "source": [
    "not_normal, normal = make_weight_for_vector(term,len(txt))\n",
    "normal_weight = normal_weight_vector(not_normal,normal)"
   ]
  },
  {
   "cell_type": "code",
   "execution_count": 27,
   "metadata": {},
   "outputs": [],
   "source": [
    "vector_doc = vector_docs(normal_weight,docs,term)"
   ]
  },
  {
   "attachments": {},
   "cell_type": "markdown",
   "metadata": {},
   "source": [
    "## Đánh giá"
   ]
  },
  {
   "cell_type": "code",
   "execution_count": 28,
   "metadata": {},
   "outputs": [],
   "source": [
    "score_vp_recall = []\n",
    "score_vp_pre = []\n",
    "score_inter = []\n",
    "for i in range (0,len(query_full)):\n",
    "    y_sp = vector_space(query_full[i],normal_weight,docs,term,vector_doc)\n",
    "    score_vp_pre.append(cal_precision(y_sp,result[i]))\n",
    "    score_vp_recall.append(cal_recall(y_sp,result[i]))\n",
    "    score_inter.append(interpolation(np.array(y_sp)[:,0],result[i]))"
   ]
  },
  {
   "attachments": {},
   "cell_type": "markdown",
   "metadata": {},
   "source": [
    "### Precision"
   ]
  },
  {
   "cell_type": "code",
   "execution_count": 29,
   "metadata": {},
   "outputs": [
    {
     "data": {
      "text/plain": [
       "0.2662222222222222"
      ]
     },
     "execution_count": 29,
     "metadata": {},
     "output_type": "execute_result"
    }
   ],
   "source": [
    "np.mean(score_vp_pre)"
   ]
  },
  {
   "attachments": {},
   "cell_type": "markdown",
   "metadata": {},
   "source": [
    "### Recall"
   ]
  },
  {
   "cell_type": "code",
   "execution_count": 30,
   "metadata": {},
   "outputs": [
    {
     "data": {
      "text/plain": [
       "0.38802542942047935"
      ]
     },
     "execution_count": 30,
     "metadata": {},
     "output_type": "execute_result"
    }
   ],
   "source": [
    "np.mean(score_vp_recall)"
   ]
  },
  {
   "attachments": {},
   "cell_type": "markdown",
   "metadata": {},
   "source": [
    "### MAP"
   ]
  },
  {
   "cell_type": "code",
   "execution_count": 31,
   "metadata": {},
   "outputs": [],
   "source": [
    "map = []\n",
    "for i in range(0,11):\n",
    "    map.append(np.mean(np.array(score_inter)[:,i]))"
   ]
  },
  {
   "cell_type": "code",
   "execution_count": 28,
   "metadata": {},
   "outputs": [
    {
     "ename": "ValueError",
     "evalue": "The truth value of an array with more than one element is ambiguous. Use a.any() or a.all()",
     "output_type": "error",
     "traceback": [
      "\u001b[1;31m---------------------------------------------------------------------------\u001b[0m",
      "\u001b[1;31mValueError\u001b[0m                                Traceback (most recent call last)",
      "File \u001b[1;32mc:\\Users\\PC\\anaconda3\\lib\\site-packages\\IPython\\core\\formatters.py:339\u001b[0m, in \u001b[0;36mBaseFormatter.__call__\u001b[1;34m(self, obj)\u001b[0m\n\u001b[0;32m    337\u001b[0m     \u001b[39mpass\u001b[39;00m\n\u001b[0;32m    338\u001b[0m \u001b[39melse\u001b[39;00m:\n\u001b[1;32m--> 339\u001b[0m     \u001b[39mreturn\u001b[39;00m printer(obj)\n\u001b[0;32m    340\u001b[0m \u001b[39m# Finally look for special method names\u001b[39;00m\n\u001b[0;32m    341\u001b[0m method \u001b[39m=\u001b[39m get_real_method(obj, \u001b[39mself\u001b[39m\u001b[39m.\u001b[39mprint_method)\n",
      "File \u001b[1;32mc:\\Users\\PC\\anaconda3\\lib\\site-packages\\IPython\\core\\pylabtools.py:151\u001b[0m, in \u001b[0;36mprint_figure\u001b[1;34m(fig, fmt, bbox_inches, base64, **kwargs)\u001b[0m\n\u001b[0;32m    148\u001b[0m     \u001b[39mfrom\u001b[39;00m \u001b[39mmatplotlib\u001b[39;00m\u001b[39m.\u001b[39;00m\u001b[39mbackend_bases\u001b[39;00m \u001b[39mimport\u001b[39;00m FigureCanvasBase\n\u001b[0;32m    149\u001b[0m     FigureCanvasBase(fig)\n\u001b[1;32m--> 151\u001b[0m fig\u001b[39m.\u001b[39mcanvas\u001b[39m.\u001b[39mprint_figure(bytes_io, \u001b[39m*\u001b[39m\u001b[39m*\u001b[39mkw)\n\u001b[0;32m    152\u001b[0m data \u001b[39m=\u001b[39m bytes_io\u001b[39m.\u001b[39mgetvalue()\n\u001b[0;32m    153\u001b[0m \u001b[39mif\u001b[39;00m fmt \u001b[39m==\u001b[39m \u001b[39m'\u001b[39m\u001b[39msvg\u001b[39m\u001b[39m'\u001b[39m:\n",
      "File \u001b[1;32mc:\\Users\\PC\\anaconda3\\lib\\site-packages\\matplotlib\\backend_bases.py:2295\u001b[0m, in \u001b[0;36mFigureCanvasBase.print_figure\u001b[1;34m(self, filename, dpi, facecolor, edgecolor, orientation, format, bbox_inches, pad_inches, bbox_extra_artists, backend, **kwargs)\u001b[0m\n\u001b[0;32m   2289\u001b[0m     renderer \u001b[39m=\u001b[39m _get_renderer(\n\u001b[0;32m   2290\u001b[0m         \u001b[39mself\u001b[39m\u001b[39m.\u001b[39mfigure,\n\u001b[0;32m   2291\u001b[0m         functools\u001b[39m.\u001b[39mpartial(\n\u001b[0;32m   2292\u001b[0m             print_method, orientation\u001b[39m=\u001b[39morientation)\n\u001b[0;32m   2293\u001b[0m     )\n\u001b[0;32m   2294\u001b[0m     \u001b[39mwith\u001b[39;00m \u001b[39mgetattr\u001b[39m(renderer, \u001b[39m\"\u001b[39m\u001b[39m_draw_disabled\u001b[39m\u001b[39m\"\u001b[39m, nullcontext)():\n\u001b[1;32m-> 2295\u001b[0m         \u001b[39mself\u001b[39;49m\u001b[39m.\u001b[39;49mfigure\u001b[39m.\u001b[39;49mdraw(renderer)\n\u001b[0;32m   2297\u001b[0m \u001b[39mif\u001b[39;00m bbox_inches:\n\u001b[0;32m   2298\u001b[0m     \u001b[39mif\u001b[39;00m bbox_inches \u001b[39m==\u001b[39m \u001b[39m\"\u001b[39m\u001b[39mtight\u001b[39m\u001b[39m\"\u001b[39m:\n",
      "File \u001b[1;32mc:\\Users\\PC\\anaconda3\\lib\\site-packages\\matplotlib\\artist.py:73\u001b[0m, in \u001b[0;36m_finalize_rasterization.<locals>.draw_wrapper\u001b[1;34m(artist, renderer, *args, **kwargs)\u001b[0m\n\u001b[0;32m     71\u001b[0m \u001b[39m@wraps\u001b[39m(draw)\n\u001b[0;32m     72\u001b[0m \u001b[39mdef\u001b[39;00m \u001b[39mdraw_wrapper\u001b[39m(artist, renderer, \u001b[39m*\u001b[39margs, \u001b[39m*\u001b[39m\u001b[39m*\u001b[39mkwargs):\n\u001b[1;32m---> 73\u001b[0m     result \u001b[39m=\u001b[39m draw(artist, renderer, \u001b[39m*\u001b[39margs, \u001b[39m*\u001b[39m\u001b[39m*\u001b[39mkwargs)\n\u001b[0;32m     74\u001b[0m     \u001b[39mif\u001b[39;00m renderer\u001b[39m.\u001b[39m_rasterizing:\n\u001b[0;32m     75\u001b[0m         renderer\u001b[39m.\u001b[39mstop_rasterizing()\n",
      "File \u001b[1;32mc:\\Users\\PC\\anaconda3\\lib\\site-packages\\matplotlib\\artist.py:50\u001b[0m, in \u001b[0;36mallow_rasterization.<locals>.draw_wrapper\u001b[1;34m(artist, renderer)\u001b[0m\n\u001b[0;32m     47\u001b[0m     \u001b[39mif\u001b[39;00m artist\u001b[39m.\u001b[39mget_agg_filter() \u001b[39mis\u001b[39;00m \u001b[39mnot\u001b[39;00m \u001b[39mNone\u001b[39;00m:\n\u001b[0;32m     48\u001b[0m         renderer\u001b[39m.\u001b[39mstart_filter()\n\u001b[1;32m---> 50\u001b[0m     \u001b[39mreturn\u001b[39;00m draw(artist, renderer)\n\u001b[0;32m     51\u001b[0m \u001b[39mfinally\u001b[39;00m:\n\u001b[0;32m     52\u001b[0m     \u001b[39mif\u001b[39;00m artist\u001b[39m.\u001b[39mget_agg_filter() \u001b[39mis\u001b[39;00m \u001b[39mnot\u001b[39;00m \u001b[39mNone\u001b[39;00m:\n",
      "File \u001b[1;32mc:\\Users\\PC\\anaconda3\\lib\\site-packages\\matplotlib\\figure.py:2810\u001b[0m, in \u001b[0;36mFigure.draw\u001b[1;34m(self, renderer)\u001b[0m\n\u001b[0;32m   2807\u001b[0m         \u001b[39m# ValueError can occur when resizing a window.\u001b[39;00m\n\u001b[0;32m   2809\u001b[0m \u001b[39mself\u001b[39m\u001b[39m.\u001b[39mpatch\u001b[39m.\u001b[39mdraw(renderer)\n\u001b[1;32m-> 2810\u001b[0m mimage\u001b[39m.\u001b[39;49m_draw_list_compositing_images(\n\u001b[0;32m   2811\u001b[0m     renderer, \u001b[39mself\u001b[39;49m, artists, \u001b[39mself\u001b[39;49m\u001b[39m.\u001b[39;49msuppressComposite)\n\u001b[0;32m   2813\u001b[0m \u001b[39mfor\u001b[39;00m sfig \u001b[39min\u001b[39;00m \u001b[39mself\u001b[39m\u001b[39m.\u001b[39msubfigs:\n\u001b[0;32m   2814\u001b[0m     sfig\u001b[39m.\u001b[39mdraw(renderer)\n",
      "File \u001b[1;32mc:\\Users\\PC\\anaconda3\\lib\\site-packages\\matplotlib\\image.py:132\u001b[0m, in \u001b[0;36m_draw_list_compositing_images\u001b[1;34m(renderer, parent, artists, suppress_composite)\u001b[0m\n\u001b[0;32m    130\u001b[0m \u001b[39mif\u001b[39;00m not_composite \u001b[39mor\u001b[39;00m \u001b[39mnot\u001b[39;00m has_images:\n\u001b[0;32m    131\u001b[0m     \u001b[39mfor\u001b[39;00m a \u001b[39min\u001b[39;00m artists:\n\u001b[1;32m--> 132\u001b[0m         a\u001b[39m.\u001b[39;49mdraw(renderer)\n\u001b[0;32m    133\u001b[0m \u001b[39melse\u001b[39;00m:\n\u001b[0;32m    134\u001b[0m     \u001b[39m# Composite any adjacent images together\u001b[39;00m\n\u001b[0;32m    135\u001b[0m     image_group \u001b[39m=\u001b[39m []\n",
      "File \u001b[1;32mc:\\Users\\PC\\anaconda3\\lib\\site-packages\\matplotlib\\artist.py:50\u001b[0m, in \u001b[0;36mallow_rasterization.<locals>.draw_wrapper\u001b[1;34m(artist, renderer)\u001b[0m\n\u001b[0;32m     47\u001b[0m     \u001b[39mif\u001b[39;00m artist\u001b[39m.\u001b[39mget_agg_filter() \u001b[39mis\u001b[39;00m \u001b[39mnot\u001b[39;00m \u001b[39mNone\u001b[39;00m:\n\u001b[0;32m     48\u001b[0m         renderer\u001b[39m.\u001b[39mstart_filter()\n\u001b[1;32m---> 50\u001b[0m     \u001b[39mreturn\u001b[39;00m draw(artist, renderer)\n\u001b[0;32m     51\u001b[0m \u001b[39mfinally\u001b[39;00m:\n\u001b[0;32m     52\u001b[0m     \u001b[39mif\u001b[39;00m artist\u001b[39m.\u001b[39mget_agg_filter() \u001b[39mis\u001b[39;00m \u001b[39mnot\u001b[39;00m \u001b[39mNone\u001b[39;00m:\n",
      "File \u001b[1;32mc:\\Users\\PC\\anaconda3\\lib\\site-packages\\matplotlib\\axes\\_base.py:3082\u001b[0m, in \u001b[0;36m_AxesBase.draw\u001b[1;34m(self, renderer)\u001b[0m\n\u001b[0;32m   3079\u001b[0m         a\u001b[39m.\u001b[39mdraw(renderer)\n\u001b[0;32m   3080\u001b[0m     renderer\u001b[39m.\u001b[39mstop_rasterizing()\n\u001b[1;32m-> 3082\u001b[0m mimage\u001b[39m.\u001b[39;49m_draw_list_compositing_images(\n\u001b[0;32m   3083\u001b[0m     renderer, \u001b[39mself\u001b[39;49m, artists, \u001b[39mself\u001b[39;49m\u001b[39m.\u001b[39;49mfigure\u001b[39m.\u001b[39;49msuppressComposite)\n\u001b[0;32m   3085\u001b[0m renderer\u001b[39m.\u001b[39mclose_group(\u001b[39m'\u001b[39m\u001b[39maxes\u001b[39m\u001b[39m'\u001b[39m)\n\u001b[0;32m   3086\u001b[0m \u001b[39mself\u001b[39m\u001b[39m.\u001b[39mstale \u001b[39m=\u001b[39m \u001b[39mFalse\u001b[39;00m\n",
      "File \u001b[1;32mc:\\Users\\PC\\anaconda3\\lib\\site-packages\\matplotlib\\image.py:132\u001b[0m, in \u001b[0;36m_draw_list_compositing_images\u001b[1;34m(renderer, parent, artists, suppress_composite)\u001b[0m\n\u001b[0;32m    130\u001b[0m \u001b[39mif\u001b[39;00m not_composite \u001b[39mor\u001b[39;00m \u001b[39mnot\u001b[39;00m has_images:\n\u001b[0;32m    131\u001b[0m     \u001b[39mfor\u001b[39;00m a \u001b[39min\u001b[39;00m artists:\n\u001b[1;32m--> 132\u001b[0m         a\u001b[39m.\u001b[39;49mdraw(renderer)\n\u001b[0;32m    133\u001b[0m \u001b[39melse\u001b[39;00m:\n\u001b[0;32m    134\u001b[0m     \u001b[39m# Composite any adjacent images together\u001b[39;00m\n\u001b[0;32m    135\u001b[0m     image_group \u001b[39m=\u001b[39m []\n",
      "File \u001b[1;32mc:\\Users\\PC\\anaconda3\\lib\\site-packages\\matplotlib\\artist.py:50\u001b[0m, in \u001b[0;36mallow_rasterization.<locals>.draw_wrapper\u001b[1;34m(artist, renderer)\u001b[0m\n\u001b[0;32m     47\u001b[0m     \u001b[39mif\u001b[39;00m artist\u001b[39m.\u001b[39mget_agg_filter() \u001b[39mis\u001b[39;00m \u001b[39mnot\u001b[39;00m \u001b[39mNone\u001b[39;00m:\n\u001b[0;32m     48\u001b[0m         renderer\u001b[39m.\u001b[39mstart_filter()\n\u001b[1;32m---> 50\u001b[0m     \u001b[39mreturn\u001b[39;00m draw(artist, renderer)\n\u001b[0;32m     51\u001b[0m \u001b[39mfinally\u001b[39;00m:\n\u001b[0;32m     52\u001b[0m     \u001b[39mif\u001b[39;00m artist\u001b[39m.\u001b[39mget_agg_filter() \u001b[39mis\u001b[39;00m \u001b[39mnot\u001b[39;00m \u001b[39mNone\u001b[39;00m:\n",
      "File \u001b[1;32mc:\\Users\\PC\\anaconda3\\lib\\site-packages\\matplotlib\\axis.py:1158\u001b[0m, in \u001b[0;36mAxis.draw\u001b[1;34m(self, renderer, *args, **kwargs)\u001b[0m\n\u001b[0;32m   1155\u001b[0m     \u001b[39mreturn\u001b[39;00m\n\u001b[0;32m   1156\u001b[0m renderer\u001b[39m.\u001b[39mopen_group(\u001b[39m__name__\u001b[39m, gid\u001b[39m=\u001b[39m\u001b[39mself\u001b[39m\u001b[39m.\u001b[39mget_gid())\n\u001b[1;32m-> 1158\u001b[0m ticks_to_draw \u001b[39m=\u001b[39m \u001b[39mself\u001b[39;49m\u001b[39m.\u001b[39;49m_update_ticks()\n\u001b[0;32m   1159\u001b[0m ticklabelBoxes, ticklabelBoxes2 \u001b[39m=\u001b[39m \u001b[39mself\u001b[39m\u001b[39m.\u001b[39m_get_tick_bboxes(ticks_to_draw,\n\u001b[0;32m   1160\u001b[0m                                                         renderer)\n\u001b[0;32m   1162\u001b[0m \u001b[39mfor\u001b[39;00m tick \u001b[39min\u001b[39;00m ticks_to_draw:\n",
      "File \u001b[1;32mc:\\Users\\PC\\anaconda3\\lib\\site-packages\\matplotlib\\axis.py:1046\u001b[0m, in \u001b[0;36mAxis._update_ticks\u001b[1;34m(self)\u001b[0m\n\u001b[0;32m   1041\u001b[0m \u001b[39m\"\"\"\u001b[39;00m\n\u001b[0;32m   1042\u001b[0m \u001b[39mUpdate ticks (position and labels) using the current data interval of\u001b[39;00m\n\u001b[0;32m   1043\u001b[0m \u001b[39mthe axes.  Return the list of ticks that will be drawn.\u001b[39;00m\n\u001b[0;32m   1044\u001b[0m \u001b[39m\"\"\"\u001b[39;00m\n\u001b[0;32m   1045\u001b[0m major_locs \u001b[39m=\u001b[39m \u001b[39mself\u001b[39m\u001b[39m.\u001b[39mget_majorticklocs()\n\u001b[1;32m-> 1046\u001b[0m major_labels \u001b[39m=\u001b[39m \u001b[39mself\u001b[39;49m\u001b[39m.\u001b[39;49mmajor\u001b[39m.\u001b[39;49mformatter\u001b[39m.\u001b[39;49mformat_ticks(major_locs)\n\u001b[0;32m   1047\u001b[0m major_ticks \u001b[39m=\u001b[39m \u001b[39mself\u001b[39m\u001b[39m.\u001b[39mget_major_ticks(\u001b[39mlen\u001b[39m(major_locs))\n\u001b[0;32m   1048\u001b[0m \u001b[39mself\u001b[39m\u001b[39m.\u001b[39mmajor\u001b[39m.\u001b[39mformatter\u001b[39m.\u001b[39mset_locs(major_locs)\n",
      "File \u001b[1;32mc:\\Users\\PC\\anaconda3\\lib\\site-packages\\matplotlib\\ticker.py:223\u001b[0m, in \u001b[0;36mFormatter.format_ticks\u001b[1;34m(self, values)\u001b[0m\n\u001b[0;32m    221\u001b[0m \u001b[39mdef\u001b[39;00m \u001b[39mformat_ticks\u001b[39m(\u001b[39mself\u001b[39m, values):\n\u001b[0;32m    222\u001b[0m     \u001b[39m\"\"\"Return the tick labels for all the ticks at once.\"\"\"\u001b[39;00m\n\u001b[1;32m--> 223\u001b[0m     \u001b[39mself\u001b[39;49m\u001b[39m.\u001b[39;49mset_locs(values)\n\u001b[0;32m    224\u001b[0m     \u001b[39mreturn\u001b[39;00m [\u001b[39mself\u001b[39m(value, i) \u001b[39mfor\u001b[39;00m i, value \u001b[39min\u001b[39;00m \u001b[39menumerate\u001b[39m(values)]\n",
      "File \u001b[1;32mc:\\Users\\PC\\anaconda3\\lib\\site-packages\\matplotlib\\ticker.py:712\u001b[0m, in \u001b[0;36mScalarFormatter.set_locs\u001b[1;34m(self, locs)\u001b[0m\n\u001b[0;32m    710\u001b[0m     \u001b[39mself\u001b[39m\u001b[39m.\u001b[39m_compute_offset()\n\u001b[0;32m    711\u001b[0m \u001b[39mself\u001b[39m\u001b[39m.\u001b[39m_set_order_of_magnitude()\n\u001b[1;32m--> 712\u001b[0m \u001b[39mself\u001b[39;49m\u001b[39m.\u001b[39;49m_set_format()\n",
      "File \u001b[1;32mc:\\Users\\PC\\anaconda3\\lib\\site-packages\\matplotlib\\ticker.py:795\u001b[0m, in \u001b[0;36mScalarFormatter._set_format\u001b[1;34m(self)\u001b[0m\n\u001b[0;32m    793\u001b[0m     _locs \u001b[39m=\u001b[39m \u001b[39mself\u001b[39m\u001b[39m.\u001b[39mlocs\n\u001b[0;32m    794\u001b[0m locs \u001b[39m=\u001b[39m (np\u001b[39m.\u001b[39masarray(_locs) \u001b[39m-\u001b[39m \u001b[39mself\u001b[39m\u001b[39m.\u001b[39moffset) \u001b[39m/\u001b[39m \u001b[39m10.\u001b[39m \u001b[39m*\u001b[39m\u001b[39m*\u001b[39m \u001b[39mself\u001b[39m\u001b[39m.\u001b[39morderOfMagnitude\n\u001b[1;32m--> 795\u001b[0m loc_range \u001b[39m=\u001b[39m np\u001b[39m.\u001b[39;49mptp(locs)\n\u001b[0;32m    796\u001b[0m \u001b[39m# Curvilinear coordinates can yield two identical points.\u001b[39;00m\n\u001b[0;32m    797\u001b[0m \u001b[39mif\u001b[39;00m loc_range \u001b[39m==\u001b[39m \u001b[39m0\u001b[39m:\n",
      "File \u001b[1;32m<__array_function__ internals>:5\u001b[0m, in \u001b[0;36mptp\u001b[1;34m(*args, **kwargs)\u001b[0m\n",
      "File \u001b[1;32mc:\\Users\\PC\\anaconda3\\lib\\site-packages\\numpy\\core\\fromnumeric.py:2630\u001b[0m, in \u001b[0;36mptp\u001b[1;34m(a, axis, out, keepdims)\u001b[0m\n\u001b[0;32m   2628\u001b[0m     \u001b[39melse\u001b[39;00m:\n\u001b[0;32m   2629\u001b[0m         \u001b[39mreturn\u001b[39;00m ptp(axis\u001b[39m=\u001b[39maxis, out\u001b[39m=\u001b[39mout, \u001b[39m*\u001b[39m\u001b[39m*\u001b[39mkwargs)\n\u001b[1;32m-> 2630\u001b[0m \u001b[39mreturn\u001b[39;00m _methods\u001b[39m.\u001b[39m_ptp(a, axis\u001b[39m=\u001b[39maxis, out\u001b[39m=\u001b[39mout, \u001b[39m*\u001b[39m\u001b[39m*\u001b[39mkwargs)\n",
      "File \u001b[1;32mc:\\Users\\PC\\anaconda3\\lib\\site-packages\\numpy\\core\\_methods.py:276\u001b[0m, in \u001b[0;36m_ptp\u001b[1;34m(a, axis, out, keepdims)\u001b[0m\n\u001b[0;32m    274\u001b[0m \u001b[39mdef\u001b[39;00m \u001b[39m_ptp\u001b[39m(a, axis\u001b[39m=\u001b[39m\u001b[39mNone\u001b[39;00m, out\u001b[39m=\u001b[39m\u001b[39mNone\u001b[39;00m, keepdims\u001b[39m=\u001b[39m\u001b[39mFalse\u001b[39;00m):\n\u001b[0;32m    275\u001b[0m     \u001b[39mreturn\u001b[39;00m um\u001b[39m.\u001b[39msubtract(\n\u001b[1;32m--> 276\u001b[0m         umr_maximum(a, axis, \u001b[39mNone\u001b[39;49;00m, out, keepdims),\n\u001b[0;32m    277\u001b[0m         umr_minimum(a, axis, \u001b[39mNone\u001b[39;00m, \u001b[39mNone\u001b[39;00m, keepdims),\n\u001b[0;32m    278\u001b[0m         out\n\u001b[0;32m    279\u001b[0m     )\n",
      "\u001b[1;31mValueError\u001b[0m: The truth value of an array with more than one element is ambiguous. Use a.any() or a.all()"
     ]
    },
    {
     "data": {
      "text/plain": [
       "<Figure size 1080x720 with 1 Axes>"
      ]
     },
     "metadata": {
      "needs_background": "light"
     },
     "output_type": "display_data"
    }
   ],
   "source": [
    "width = 0.2\n",
    "fig = plt.figure(figsize = (15, 10))\n",
    "plt.grid(color='#95a5a6', linestyle='--', linewidth=2, axis='y', alpha=0.7)\n",
    "plt.plot(np.arange(len(map)),map,marker = 'o')\n",
    "\n",
    "plt.yticks([[0, 0.1, 0.2, 0.3, 0.4, 0.5, 0.6, 0.7, 0.8, 0.9, 1.0]])\n",
    "plt.xticks([r + width for r in range(len(map))],\n",
    "    [0, 0.1, 0.2, 0.3, 0.4, 0.5, 0.6, 0.7, 0.8, 0.9, 1.0])\n",
    "plt.show()"
   ]
  },
  {
   "attachments": {},
   "cell_type": "markdown",
   "metadata": {},
   "source": [
    "# BIM"
   ]
  },
  {
   "attachments": {},
   "cell_type": "markdown",
   "metadata": {},
   "source": [
    "## Hàm"
   ]
  },
  {
   "cell_type": "code",
   "execution_count": 13,
   "metadata": {},
   "outputs": [],
   "source": [
    "def make_term_bim(txt_term):\n",
    "\n",
    "    '''\n",
    "    tạo thành các term có dạng là một dict, từ -> số lượng tài liệu chứa nó, tần số lặp từ đó trong tất cả tài liệu. Vd:\n",
    "    'deepest' : {So_luong_tai_lieu: 1,\n",
    "                 Tan_so: 2\n",
    "                }\n",
    "    '''\n",
    "    words = {}\n",
    "    for i in txt_term:\n",
    "      \n",
    "        final_final=tien_xu_ly(i)\n",
    "        \n",
    "        for word in final_final:\n",
    "            \n",
    "            if word not in words: \n",
    "                words[word] = {\n",
    "                \"So_luong_tai_lieu\" : [txt_term.index(i)+1], \n",
    "                \"Tan_so\" : 1,\n",
    "                \"Posting\": None,\n",
    "                \"Weight\" : None\n",
    "                }\n",
    "\n",
    "            else:\n",
    "                words[word][\"Tan_so\"]+=1\n",
    "                current_index = txt_term.index(i)+1\n",
    "                if current_index not in words[word][\"So_luong_tai_lieu\"]: \n",
    "                    words[word][\"So_luong_tai_lieu\"].append(current_index)\n",
    "    for i in words:\n",
    "        words[i][\"So_luong_tai_lieu\"] = len(words[i][\"So_luong_tai_lieu\"])\n",
    "    return words"
   ]
  },
  {
   "cell_type": "code",
   "execution_count": 15,
   "metadata": {},
   "outputs": [],
   "source": [
    "def make_detail_term(txt_term):\n",
    "    '''\n",
    "    Chi tiết về term đó, từ -> số Id docs: số lần lặp trong doc đó. Vd\n",
    "    conceived: {\n",
    "                [1016, 1]\n",
    "                [1268, 1]\n",
    "    }\n",
    "    \n",
    "    '''\n",
    "    words = {}\n",
    "    for i in txt_term:\n",
    "        final_final=tien_xu_ly(i)\n",
    "        current_index = txt_term.index(i)+1\n",
    "        for word in final_final:\n",
    "            if (word not in words):\n",
    "                words[word] = [[current_index,1,0]]\n",
    "             \n",
    "            else:  \n",
    "                if words[word][-1][0] == current_index: words[word][-1][1] +=1 \n",
    "                else: words[word].append([current_index,1,0])\n",
    "            \n",
    "            #print(list(words[word][0,:]))\n",
    "       \n",
    "\n",
    "    return words    "
   ]
  },
  {
   "cell_type": "code",
   "execution_count": 16,
   "metadata": {},
   "outputs": [],
   "source": [
    "def bim1(term,txt):\n",
    "    '''\n",
    "    trường hợp 1 chưa có thông tin\n",
    "    '''\n",
    "    weights = {}\n",
    "\n",
    "    for word in term:\n",
    "        p = 0.5\n",
    "        p_= term[word]['So_luong_tai_lieu']/(len(txt))\n",
    "        #w = np.log2(p/p_)\n",
    "        w = p/p_\n",
    "        weights[word] = w\n",
    "\n",
    "\n",
    "    return weights"
   ]
  },
  {
   "cell_type": "code",
   "execution_count": 17,
   "metadata": {},
   "outputs": [],
   "source": [
    "def make_index(term1, detail_term1,weight):\n",
    "    for word in term1:\n",
    "        term1[word][\"Posting\"] = detail_term1[word]\n",
    "        term1[word][\"Weight\"] = weight[word]\n",
    "    return term1 "
   ]
  },
  {
   "cell_type": "code",
   "execution_count": 35,
   "metadata": {},
   "outputs": [],
   "source": [
    "def update(term,query,docs_relevant,txt):\n",
    "    '''\n",
    "    docs_relevant: tập các văn bản liên quan \n",
    "    Rt: số tài liệu liên quan đến term\n",
    "    Nr: số tài liệu liên quan\n",
    "    p = (Rt+0.5) / (Nr+1)\n",
    "    p- = (Nt-Rt + 0.5)/(N-Nr + 1)\n",
    "    '''\n",
    "    query = make_term_bim(tien_xu_ly(query))\n",
    "    Nr = len(docs_relevant)\n",
    "    for word in query:\n",
    "        id = []\n",
    "        id.append(count for count in docs_relevant if count in np.array(term[word][\"Posting\"])[:,0])\n",
    "        Rt = len(id)\n",
    "        p = (Rt+0.5) / (Nr+1)\n",
    "        p_ = (term[word][\"So_luong_tai_lieu\"]-Rt + 0.5)/(len(txt)-Nr + 1)\n",
    "        term[word][\"Weight\"] = p / p_"
   ]
  },
  {
   "cell_type": "code",
   "execution_count": 19,
   "metadata": {},
   "outputs": [],
   "source": [
    "def relevant_bim(term,query,txt):\n",
    "    relevance_scores = {}\n",
    "    doc_id = 0\n",
    "    query = make_term_bim(tien_xu_ly(query))\n",
    "    for i in range (0,len(txt)):\n",
    "        doc_id = i+1\n",
    "        score = -1\n",
    "        for word in query:\n",
    "            if word in txt[i]:\n",
    "                if score == -1: score = 1\n",
    "           \n",
    "                score *= term[word][\"Weight\"]\n",
    "                \n",
    "        if(score==-1): continue\n",
    "        relevance_scores[doc_id] = score\n",
    "    sorted_value = sorted(relevance_scores.items(), key=lambda x: x[1], reverse = True)\n",
    "    return sorted_value"
   ]
  },
  {
   "attachments": {},
   "cell_type": "markdown",
   "metadata": {},
   "source": [
    "## Main"
   ]
  },
  {
   "cell_type": "code",
   "execution_count": 39,
   "metadata": {},
   "outputs": [],
   "source": [
    "term = make_term_bim(txt)\n",
    "detail_term = make_detail_term(txt)\n",
    "weight = bim1(term,txt)\n",
    "index= make_index(term,detail_term,weight)"
   ]
  },
  {
   "attachments": {},
   "cell_type": "markdown",
   "metadata": {},
   "source": [
    "## Đánh giá"
   ]
  },
  {
   "cell_type": "code",
   "execution_count": 83,
   "metadata": {},
   "outputs": [],
   "source": [
    "score_bim_pre = []\n",
    "score_bim_recall = []\n",
    "score_bim_inter = []\n",
    "for i in range (0,len(query_full)):\n",
    "    y_bim = relevant_bim(term,query_full[i],docs)\n",
    "    score_bim_pre.append(cal_precision(y_bim,result[i]))\n",
    "    score_bim_recall.append(cal_recall(y_bim,result[i]))\n",
    "    score_bim_inter.append(interpolation(np.array(y_bim)[:,0],result[i]))\n",
    "\n"
   ]
  },
  {
   "attachments": {},
   "cell_type": "markdown",
   "metadata": {},
   "source": [
    "### Precision"
   ]
  },
  {
   "cell_type": "code",
   "execution_count": 84,
   "metadata": {},
   "outputs": [
    {
     "data": {
      "text/plain": [
       "0.2497777777777778"
      ]
     },
     "execution_count": 84,
     "metadata": {},
     "output_type": "execute_result"
    }
   ],
   "source": [
    "np.mean(score_bim_pre)"
   ]
  },
  {
   "attachments": {},
   "cell_type": "markdown",
   "metadata": {},
   "source": [
    "### Recall"
   ]
  },
  {
   "cell_type": "code",
   "execution_count": 85,
   "metadata": {},
   "outputs": [
    {
     "data": {
      "text/plain": [
       "0.37159532548779545"
      ]
     },
     "execution_count": 85,
     "metadata": {},
     "output_type": "execute_result"
    }
   ],
   "source": [
    "np.mean(score_bim_recall)"
   ]
  },
  {
   "attachments": {},
   "cell_type": "markdown",
   "metadata": {},
   "source": [
    "### MAP"
   ]
  },
  {
   "cell_type": "code",
   "execution_count": 86,
   "metadata": {},
   "outputs": [],
   "source": [
    "map = []\n",
    "for i in range(0,11):\n",
    "    map.append(np.mean(np.array(score_bim_inter)[:,i]))"
   ]
  },
  {
   "cell_type": "code",
   "execution_count": 87,
   "metadata": {},
   "outputs": [
    {
     "data": {
      "image/png": "[encoded data removed]",
      "text/plain": [
       "<Figure size 1080x720 with 1 Axes>"
      ]
     },
     "metadata": {
      "needs_background": "light"
     },
     "output_type": "display_data"
    }
   ],
   "source": [
    "width = 0.2\n",
    "fig = plt.figure(figsize = (15, 10))\n",
    "plt.grid(color='#95a5a6', linestyle='--', linewidth=2, axis='y', alpha=0.7)\n",
    "plt.plot(np.arange(len(map)),map,marker = 'o')\n",
    "\n",
    "plt.xticks([r + width for r in range(len(map))],\n",
    "    [0, 0.1, 0.2, 0.3, 0.4, 0.5, 0.6, 0.7, 0.8, 0.9, 1.0])\n",
    "plt.show()"
   ]
  },
  {
   "attachments": {},
   "cell_type": "markdown",
   "metadata": {},
   "source": [
    "# Test với thư viện"
   ]
  },
  {
   "cell_type": "code",
   "execution_count": 20,
   "metadata": {},
   "outputs": [],
   "source": [
    "D = txt"
   ]
  },
  {
   "cell_type": "code",
   "execution_count": 22,
   "metadata": {},
   "outputs": [],
   "source": [
    "from whoosh.index import create_in\n",
    "from whoosh.fields import *\n",
    "from whoosh.analysis import StandardAnalyzer\n",
    "\n",
    "schema = Schema(docid=STORED(), content=TEXT(stored=True, analyzer=StandardAnalyzer()))\n",
    "ix = create_in(\"ind\", schema)\n",
    "writer = ix.writer()\n",
    "for i in range(len(D)):\n",
    "  writer.add_document(docid=\"{}\".format(i+1), content=D[i])\n",
    "writer.commit()\n"
   ]
  },
  {
   "cell_type": "code",
   "execution_count": 23,
   "metadata": {},
   "outputs": [],
   "source": [
    "from whoosh import qparser\n",
    "from whoosh import scoring\n",
    "import whoosh.index as index\n",
    "\n",
    "ind = index.open_dir(\"ind\")\n",
    "searcher = ind.searcher(weighting=scoring.TF_IDF())\n",
    "\n",
    "parser = qparser.QueryParser(\"content\", ind.schema, group=qparser.OrGroup)\n",
    "score_wh_pre = []\n",
    "score_wh_recall = []\n",
    "score_wh_inter = []\n",
    "for q in range (0,len(query_full)):\n",
    "  query = parser.parse(query_full[q])\n",
    "  results = searcher.search(query, limit=None)\n",
    "  y_wh = []\n",
    "  for i in range(len(results)):\n",
    "    y_wh.append([results[i]['docid']])\n",
    "\n",
    "\n",
    "\n",
    "  score_wh_pre.append(cal_precision(y_wh,result[q]))\n",
    "  score_wh_recall.append(cal_recall(y_wh,result[q]))\n",
    "\n",
    "  score_wh_inter.append(interpolation(np.array(y_wh)[:,0],result[q]))\n",
    "\n",
    " "
   ]
  },
  {
   "cell_type": "code",
   "execution_count": 24,
   "metadata": {},
   "outputs": [
    {
     "data": {
      "text/plain": [
       "0.20622222222222225"
      ]
     },
     "execution_count": 24,
     "metadata": {},
     "output_type": "execute_result"
    }
   ],
   "source": [
    "np.mean(score_wh_pre)"
   ]
  },
  {
   "cell_type": "code",
   "execution_count": 25,
   "metadata": {},
   "outputs": [
    {
     "data": {
      "text/plain": [
       "0.2955906669884002"
      ]
     },
     "execution_count": 25,
     "metadata": {},
     "output_type": "execute_result"
    }
   ],
   "source": [
    "np.mean(score_wh_recall)"
   ]
  },
  {
   "cell_type": "code",
   "execution_count": 30,
   "metadata": {},
   "outputs": [],
   "source": [
    "map = []\n",
    "for i in range(0,11):\n",
    "    map.append(np.mean(np.array(score_wh_inter)[:,i]))"
   ]
  },
  {
   "cell_type": "code",
   "execution_count": 33,
   "metadata": {},
   "outputs": [
    {
     "data": {
      "image/png": "[encoded data removed]",
      "text/plain": [
       "<Figure size 1080x720 with 1 Axes>"
      ]
     },
     "metadata": {
      "needs_background": "light"
     },
     "output_type": "display_data"
    }
   ],
   "source": [
    "width = 0.2\n",
    "fig = plt.figure(figsize = (15, 10))\n",
    "plt.grid(color='#95a5a6', linestyle='--', linewidth=2, axis='y', alpha=0.7)\n",
    "plt.plot(np.arange(len(map)),map,marker = 'o')\n",
    "plt.yticks([0, 0.1, 0.2, 0.3, 0.4, 0.5, 0.6, 0.7, 0.8, 0.9, 1.0])\n",
    "plt.xticks([r + width for r in range(len(map))],\n",
    "    [0, 0.1, 0.2, 0.3, 0.4, 0.5, 0.6, 0.7, 0.8, 0.9, 1.0])\n",
    "plt.show()"
   ]
  }
 ],
 "metadata": {
  "kernelspec": {
   "display_name": "base",
   "language": "python",
   "name": "python3"
  },
  "language_info": {
   "codemirror_mode": {
    "name": "ipython",
    "version": 3
   },
   "file_extension": ".py",
   "mimetype": "text/x-python",
   "name": "python",
   "nbconvert_exporter": "python",
   "pygments_lexer": "ipython3",
   "version": "3.9.12"
  },
  "orig_nbformat": 4
 },
 "nbformat": 4,
 "nbformat_minor": 2
}
